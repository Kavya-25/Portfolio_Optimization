{
 "cells": [
  {
   "cell_type": "markdown",
   "metadata": {},
   "source": [
    "Datasets Import"
   ]
  },
  {
   "cell_type": "code",
   "execution_count": 2,
   "metadata": {},
   "outputs": [],
   "source": [
    "import pandas as pd\n",
    "import numpy as np\n",
    "from arch import arch_model\n",
    "\n",
    "stock_data={\n",
    "    'Axis_Bank':pd.read_csv('./Datasets/Axis_Bank.csv',index_col=0),\n",
    "    'Bajaj_Finance':pd.read_csv('./Datasets/Bajaj_Finance.csv',index_col=0),\n",
    "    'Coal_India':pd.read_csv('./Datasets/Coal_India.csv',index_col=0),\n",
    "    'HCL_Tech':pd.read_csv('./Datasets/HCL_Tech.csv',index_col=0),\n",
    "    'HDFC_Bank':pd.read_csv('./Datasets/HDFC_Bank.csv',index_col=0),\n",
    "    'Hinudstan_Unilever':pd.read_csv('./Datasets/Hindustan_Unilever.csv',index_col=0),\n",
    "    'ICICI_Bank':pd.read_csv('./Datasets/ICICI_Bank.csv',index_col=0),\n",
    "            'Infosys':pd.read_csv('./Datasets/Infosys.csv',index_col=0),\n",
    "    'ITC':pd.read_csv('./Datasets/ITC.csv',index_col=0),'Kotak_Mahindra':pd.read_csv('./Datasets/Kotak_Mahindra.csv',index_col=0),\n",
    "    'L&T':pd.read_csv('./Datasets/L&T.csv',index_col=0),\n",
    "    'Maruti_Suzuki':pd.read_csv('./Datasets/Maruti_Suzuki.csv',index_col=0),\n",
    "    'NTPC':pd.read_csv('./Datasets/NTPC.csv',index_col=0),\n",
    "    'ONGC':pd.read_csv('./Datasets/ONGC.csv',index_col=0),\n",
    "    'PowerGrid':pd.read_csv('./Datasets/PowerGrid_Corp.csv',index_col=0),\n",
    "    'Reliance_Industries':pd.read_csv('./Datasets/Reliance_Industries.csv',index_col=0),\n",
    "    'SBI':pd.read_csv('./Datasets/SBI.csv',index_col=0),\n",
    "    'Tata_Motors':pd.read_csv('./Datasets/Tata_Motors.csv',index_col=0),\n",
    "    'TCS':pd.read_csv('./Datasets/TCS.csv',index_col=0),\n",
    "    'UltraTech':pd.read_csv('./Datasets/UltraTech.csv',index_col=0)\n",
    "\n",
    "}\n",
    "\n"
   ]
  },
  {
   "cell_type": "markdown",
   "metadata": {},
   "source": [
    "Best AIC Function"
   ]
  },
  {
   "cell_type": "code",
   "execution_count": 3,
   "metadata": {},
   "outputs": [],
   "source": [
    "def select_best_order(returns):\n",
    "    best_aic = np.inf  # Initialize with a very large value\n",
    "    best_order = None\n",
    "\n",
    "    # Loop over potential values of p and q\n",
    "    for p in range(1, 6):  # Maximum lag order for ARCH model\n",
    "        for q in range(1, 6):  # Maximum lag order for GARCH model\n",
    "            # Fit ARCH/GARCH model with current p and q values\n",
    "            model = arch_model(returns, vol='Garch', p=p, q=q,rescale=False)\n",
    "            result = model.fit(disp='off')  # Suppress output for simplicity\n",
    "            \n",
    "            # Calculate AIC\n",
    "            aic = result.aic\n",
    "            \n",
    "            # Check if current AIC is the best so far\n",
    "            if aic < best_aic:\n",
    "                best_aic = aic\n",
    "                best_order = (p, q)\n",
    "                p_value=p\n",
    "                q_value=q\n",
    "\n",
    "    return best_aic, best_order,p_value,q_value"
   ]
  },
  {
   "cell_type": "markdown",
   "metadata": {},
   "source": [
    "GARCH Model Function"
   ]
  },
  {
   "cell_type": "code",
   "execution_count": 4,
   "metadata": {},
   "outputs": [],
   "source": [
    "def fit_garch_model_and_forecast_volatility(rescaled_returns, p_value, q_value):\n",
    "    # Fit GARCH model\n",
    "    model = arch_model(rescaled_returns, vol='Garch', p=p_value, q=q_value, rescale=False)\n",
    "    fitted_model = model.fit(disp='off')  # Suppress output for simplicity\n",
    "\n",
    "    # Forecast volatility for the next 1 day\n",
    "    forecast = fitted_model.forecast(horizon=1)\n",
    "    forecast_volatility = np.sqrt(forecast.variance.iloc[-1].values[0])\n",
    "    \n",
    "    return forecast_volatility"
   ]
  },
  {
   "cell_type": "markdown",
   "metadata": {},
   "source": [
    "AIC Results"
   ]
  },
  {
   "cell_type": "code",
   "execution_count": 21,
   "metadata": {},
   "outputs": [
    {
     "name": "stdout",
     "output_type": "stream",
     "text": [
      "Best AIC for: Axis_Bank -4362.335567783504\n",
      "Best Order (p, q): (1, 1)\n",
      "Best AIC for: Bajaj_Finance -4106.517751199837\n",
      "Best Order (p, q): (4, 3)\n",
      "Best AIC for: Coal_India -4035.323304527393\n",
      "Best Order (p, q): (1, 2)\n",
      "Best AIC for: HCL_Tech -4426.968163052792\n",
      "Best Order (p, q): (1, 1)\n",
      "Best AIC for: HDFC_Bank -4570.805029386023\n",
      "Best Order (p, q): (1, 2)\n",
      "Best AIC for: Hinudstan_Unilever -4724.632352017566\n",
      "Best Order (p, q): (1, 2)\n",
      "Best AIC for: ICICI_Bank -4545.867112398357\n",
      "Best Order (p, q): (1, 4)\n",
      "Best AIC for: Infosys -4431.293657073018\n",
      "Best Order (p, q): (1, 3)\n",
      "Best AIC for: ITC -4625.118868982354\n",
      "Best Order (p, q): (3, 2)\n",
      "Best AIC for: Kotak_Mahindra -4548.094135178204\n",
      "Best Order (p, q): (1, 2)\n",
      "Best AIC for: L&T -5644.378712580734\n",
      "Best Order (p, q): (2, 4)\n",
      "Best AIC for: Maruti_Suzuki -4488.777099591656\n",
      "Best Order (p, q): (1, 2)\n",
      "Best AIC for: NTPC -4335.682197017768\n",
      "Best Order (p, q): (1, 2)\n",
      "Best AIC for: ONGC -4026.248758448403\n",
      "Best Order (p, q): (2, 4)\n",
      "Best AIC for: PowerGrid -4286.680304781521\n",
      "Best Order (p, q): (1, 1)\n",
      "Best AIC for: Reliance_Industries -4488.388704794555\n",
      "Best Order (p, q): (2, 1)\n",
      "Best AIC for: SBI -4300.678587295433\n",
      "Best Order (p, q): (1, 2)\n",
      "Best AIC for: Tata_Motors -3856.7125296389913\n",
      "Best Order (p, q): (2, 2)\n",
      "Best AIC for: TCS -4641.197358218182\n",
      "Best Order (p, q): (1, 1)\n",
      "Best AIC for: UltraTech -4485.6857516523005\n",
      "Best Order (p, q): (1, 1)\n"
     ]
    }
   ],
   "source": [
    "volatility_results = {}\n",
    "\n",
    "# Loop over each company's stock price data\n",
    "actual_volatilities={}\n",
    "thresholded_stocks = []\n",
    "threshold = 0.05  # Define threshold for volatility\n",
    "\n",
    "for company, data in stock_data.items():\n",
    "    # Calculate returns\n",
    "    returns = data['Close'].pct_change().dropna()  \n",
    "    rescaled_returns=returns\n",
    "    squared_diff = rescaled_returns ** 2\n",
    "    actual_volatilities[company] = squared_diff.mean()\n",
    "    best_aic, best_order,p_value,q_value = select_best_order(rescaled_returns)\n",
    "    print(\"Best AIC for:\",company, best_aic)\n",
    "    print(\"Best Order (p, q):\", best_order)\n",
    "\n",
    "    volatility_results[company] = fit_garch_model_and_forecast_volatility(rescaled_returns, p_value, q_value)\n",
    "    forecasted_volatilities = np.array(list(volatility_results.values())).reshape(-1, 1)\n",
    "    # Store the result in the dictionary"
   ]
  },
  {
   "cell_type": "markdown",
   "metadata": {},
   "source": [
    "Forecasted Volatilities V/S Actual"
   ]
  },
  {
   "cell_type": "code",
   "execution_count": 22,
   "metadata": {},
   "outputs": [
    {
     "name": "stdout",
     "output_type": "stream",
     "text": [
      "Forecasted Volatility Results:\n",
      "Axis_Bank: 0.01371214230055575\n",
      "Bajaj_Finance: 0.01600356701080269\n",
      "Coal_India: 0.022082548486808542\n",
      "HCL_Tech: 0.014763698650303289\n",
      "HDFC_Bank: 0.01142352538159613\n",
      "Hinudstan_Unilever: 0.012044774412859791\n",
      "ICICI_Bank: 0.012113151805205986\n",
      "Infosys: 0.01409163508817392\n",
      "ITC: 0.014652394104110077\n",
      "Kotak_Mahindra: 0.011865452139342349\n",
      "L&T: 0.01596820007820523\n",
      "Maruti_Suzuki: 0.01510889473779621\n",
      "NTPC: 0.01845457585476098\n",
      "ONGC: 0.01945199684947124\n",
      "PowerGrid: 0.02038956818252686\n",
      "Reliance_Industries: 0.014625263171074179\n",
      "SBI: 0.01611924807108784\n",
      "Tata_Motors: 0.017996311735768315\n",
      "TCS: 0.013643096208354306\n",
      "UltraTech: 0.012388381669224848\n",
      "\n",
      "\n",
      "Actual Volatility Results:\n",
      "Axis_Bank: 0.0002733728200634011\n",
      "Bajaj_Finance: 0.0003552687431494324\n",
      "Coal_India: 0.0004077203790160743\n",
      "HCL_Tech: 0.0002349517645763547\n",
      "HDFC_Bank: 0.0002057649210463789\n",
      "Hinudstan_Unilever: 0.0001654699853306537\n",
      "ICICI_Bank: 0.00022504677455364162\n",
      "Infosys: 0.00023532587676676858\n",
      "ITC: 0.00019040769819143554\n",
      "Kotak_Mahindra: 0.00021178926873103416\n",
      "L&T: 0.00032717856903010403\n",
      "Maruti_Suzuki: 0.00023393226273754722\n",
      "NTPC: 0.00026688761237382867\n",
      "ONGC: 0.0004366146509931412\n",
      "PowerGrid: 0.0002869847297008865\n",
      "Reliance_Industries: 0.0002245027984414416\n",
      "SBI: 0.00030056791934170884\n",
      "Tata_Motors: 0.0005750244882128657\n",
      "TCS: 0.00017740844040581917\n",
      "UltraTech: 0.00022951891366808564\n"
     ]
    }
   ],
   "source": [
    "volatilities={}\n",
    "for company, volatility in volatility_results.items():\n",
    "        if volatility <= threshold:\n",
    "            thresholded_stocks.append(company)\n",
    "print(\"Forecasted Volatility Results:\")\n",
    "for company, volatility in volatility_results.items():\n",
    "    volatilities[company]=volatility\n",
    "    print(f\"{company}: {volatility}\")\n",
    "print('\\n')\n",
    "print(\"Actual Volatility Results:\")\n",
    "for company, volatility in actual_volatilities.items():\n",
    "    actual_volatilities[company]=volatility\n",
    "    print(f\"{company}: {volatility}\")"
   ]
  },
  {
   "cell_type": "code",
   "execution_count": 30,
   "metadata": {},
   "outputs": [],
   "source": [
    "from importnb import Notebook\n",
    "with Notebook():\n",
    "    from Models.kmeans import find_optimal_k_and_cluster\n"
   ]
  },
  {
   "cell_type": "markdown",
   "metadata": {},
   "source": [
    "Optimak k & silhouette score calculation"
   ]
  },
  {
   "cell_type": "code",
   "execution_count": 24,
   "metadata": {},
   "outputs": [
    {
     "name": "stderr",
     "output_type": "stream",
     "text": [
      "C:\\Users\\Hp\\AppData\\Roaming\\Python\\Python310\\site-packages\\sklearn\\cluster\\_kmeans.py:1416: FutureWarning: The default value of `n_init` will change from 10 to 'auto' in 1.4. Set the value of `n_init` explicitly to suppress the warning\n",
      "  super()._check_params_vs_input(X, default_n_init=10)\n"
     ]
    },
    {
     "name": "stdout",
     "output_type": "stream",
     "text": [
      "Optimal number of clusters (k): 3\n",
      "[0.6362426457944522, 0.5900961615687937, 0.5925964090573574]\n"
     ]
    },
    {
     "name": "stderr",
     "output_type": "stream",
     "text": [
      "C:\\Users\\Hp\\AppData\\Roaming\\Python\\Python310\\site-packages\\sklearn\\cluster\\_kmeans.py:1416: FutureWarning: The default value of `n_init` will change from 10 to 'auto' in 1.4. Set the value of `n_init` explicitly to suppress the warning\n",
      "  super()._check_params_vs_input(X, default_n_init=10)\n",
      "C:\\Users\\Hp\\AppData\\Roaming\\Python\\Python310\\site-packages\\sklearn\\cluster\\_kmeans.py:1416: FutureWarning: The default value of `n_init` will change from 10 to 'auto' in 1.4. Set the value of `n_init` explicitly to suppress the warning\n",
      "  super()._check_params_vs_input(X, default_n_init=10)\n"
     ]
    }
   ],
   "source": [
    "optimal_k, silhouette_scores = find_optimal_k_and_cluster(forecasted_volatilities)\n",
    "\n",
    "print(\"Optimal number of clusters (k):\", optimal_k)\n",
    "print(silhouette_scores)"
   ]
  },
  {
   "cell_type": "markdown",
   "metadata": {},
   "source": [
    "Silhouette Score plot"
   ]
  },
  {
   "cell_type": "code",
   "execution_count": 31,
   "metadata": {},
   "outputs": [
    {
     "data": {
      "image/png": "[encoded data removed]",
      "text/plain": [
       "<Figure size 1000x600 with 1 Axes>"
      ]
     },
     "metadata": {},
     "output_type": "display_data"
    }
   ],
   "source": [
    "import matplotlib.pyplot as plt\n",
    "min_k=3\n",
    "max_k=5\n",
    "# Plot silhouette scores\n",
    "plt.figure(figsize=(10, 6))\n",
    "plt.plot(range(min_k, max_k + 1), silhouette_scores, marker='o', linestyle='-')\n",
    "plt.xlabel('Number of Clusters (k)')\n",
    "plt.ylabel('Silhouette Score')\n",
    "plt.title('Silhouette Score vs Number of Clusters')\n",
    "plt.grid(True)\n",
    "plt.show()\n"
   ]
  },
  {
   "cell_type": "code",
   "execution_count": null,
   "metadata": {},
   "outputs": [],
   "source": []
  }
 ],
 "metadata": {
  "kernelspec": {
   "display_name": "Python 3",
   "language": "python",
   "name": "python3"
  },
  "language_info": {
   "codemirror_mode": {
    "name": "ipython",
    "version": 3
   },
   "file_extension": ".py",
   "mimetype": "text/x-python",
   "name": "python",
   "nbconvert_exporter": "python",
   "pygments_lexer": "ipython3",
   "version": "3.10.6"
  }
 },
 "nbformat": 4,
 "nbformat_minor": 2
}
