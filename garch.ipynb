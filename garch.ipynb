{
 "cells": [
  {
   "cell_type": "markdown",
   "metadata": {},
   "source": [
    "Datasets Import"
   ]
  },
  {
   "cell_type": "code",
   "execution_count": 3,
   "metadata": {},
   "outputs": [],
   "source": [
    "import pandas as pd\n",
    "import numpy as np\n",
    "from arch import arch_model\n",
    "\n",
    "stock_data={\n",
    "    'Asian_Paints':pd.read_csv('./Datasets/Asian_Paints.csv',index_col=0),\n",
    "    'Adani_Enterprises':pd.read_csv('./Datasets/Adani_Enterprises.csv',index_col=0),\n",
    "    'Adani_Ports':pd.read_csv('./Datasets/Adani_Ports.csv',index_col=0),\n",
    "    'Apollo_Hospital':pd.read_csv('./Datasets/ApolloHospital.csv',index_col=0),\n",
    "    'Axis_Bank':pd.read_csv('./Datasets/Axis_Bank.csv',index_col=0),\n",
    "    'Bajaj_Auto':pd.read_csv('./Datasets/Bajaj_Auto.csv',index_col=0),\n",
    "    'Bajaj_Finance':pd.read_csv('./Datasets/Bajaj_Finance.csv',index_col=0),\n",
    "    'Bajaj_Finserv':pd.read_csv('./Datasets/Bajaj_Finserv.csv',index_col=0),\n",
    "    'Bharat_Petroleum':pd.read_csv('./Datasets/Bharat_Petroleum.csv',index_col=0),\n",
    "    'Bharti_Airtel':pd.read_csv('./Datasets/Bharti_Airtel.csv',index_col=0),\n",
    "    'Britannia_Industries':pd.read_csv('./Datasets/Britannia_Industries.csv',index_col=0),\n",
    "    'Cipla':pd.read_csv('./Datasets/Cipla.csv',index_col=0),\n",
    "    'Coal_India':pd.read_csv('./Datasets/Coal_India.csv',index_col=0),\n",
    "    'Divi_Labs':pd.read_csv('./Datasets/Divi_Labs.csv',index_col=0),\n",
    "    'Dr_Reddy':pd.read_csv('./Datasets/Dr_Reddy.csv',index_col=0),\n",
    "    'Eicher_Motors':pd.read_csv('./Datasets/Eicher_Motors.csv',index_col=0),\n",
    "    'Grasim_Industries':pd.read_csv('./Datasets/Grasim_Industries.csv',index_col=0),\n",
    "    'HCL_Tech':pd.read_csv('./Datasets/HCL_Tech.csv',index_col=0),\n",
    "    'HDFC_Bank':pd.read_csv('./Datasets/HDFC_Bank.csv',index_col=0),\n",
    "    'HDFC_Life':pd.read_csv('./Datasets/HDFC_Life.csv',index_col=0),\n",
    "    'Hero_Motocorp':pd.read_csv('./Datasets/Hero_Motocorp.csv',index_col=0),\n",
    "    'Hindalco':pd.read_csv('./Datasets/Hindalco.csv',index_col=0),\n",
    "    'Hinudstan_Unilever':pd.read_csv('./Datasets/Hindustan_Unilever.csv',index_col=0),\n",
    "    'ICICI_Bank':pd.read_csv('./Datasets/ICICI_Bank.csv',index_col=0),\n",
    "    'IndusInd_Bank':pd.read_csv('./Datasets/IndusInd_Bank.csv',index_col=0),\n",
    "    'Infosys':pd.read_csv('./Datasets/Infosys.csv',index_col=0),\n",
    "    'ITC':pd.read_csv('./Datasets/ITC.csv',index_col=0),\n",
    "    'JSW_Steel':pd.read_csv('./Datasets/Jsw_steel.csv',index_col=0),\n",
    "    'Kotak_Mahindra':pd.read_csv('./Datasets/Kotak_Mahindra.csv',index_col=0),\n",
    "    'L&T':pd.read_csv('./Datasets/L&T.csv',index_col=0),\n",
    "    'LTIMindTree':pd.read_csv('./Datasets/LTIMindTree.csv',index_col=0),\n",
    "    'Mahindra&Mahindra':pd.read_csv('./Datasets/Mahindra&Mahindra.csv',index_col=0),\n",
    "    'Maruti_Suzuki':pd.read_csv('./Datasets/Maruti_Suzuki.csv',index_col=0),\n",
    "    'Nestle_India':pd.read_csv('./Datasets/Nestle_India.csv',index_col=0),\n",
    "    'NTPC':pd.read_csv('./Datasets/NTPC.csv',index_col=0),\n",
    "    'ONGC':pd.read_csv('./Datasets/ONGC.csv',index_col=0),\n",
    "    'PowerGrid':pd.read_csv('./Datasets/PowerGrid_Corp.csv',index_col=0),\n",
    "    'Reliance_Industries':pd.read_csv('./Datasets/Reliance_Industries.csv',index_col=0),\n",
    "    'SBI':pd.read_csv('./Datasets/SBI.csv',index_col=0),\n",
    "    'SBI_Life_Insurance':pd.read_csv('./Datasets/SBI_Life_Insurance.csv',index_col=0),\n",
    "    'Shriram_finance':pd.read_csv('./Datasets/Shriram_finance.csv',index_col=0),\n",
    "    'Sun_Pharma':pd.read_csv('./Datasets/SunPharma.csv',index_col=0),\n",
    "    'Tata_consumer':pd.read_csv('./Datasets/Tata_Consumer_Services.csv',index_col=0),\n",
    "    'Tata_Motors':pd.read_csv('./Datasets/Tata_Motors.csv',index_col=0),\n",
    "    'Tata_Steel':pd.read_csv('./Datasets/Tata_Steel.csv',index_col=0),\n",
    "    'TCS':pd.read_csv('./Datasets/TCS.csv',index_col=0),\n",
    "    'Tech_Mahindra':pd.read_csv('./Datasets/Tech_Mahindra.csv',index_col=0),\n",
    "    'Titan':pd.read_csv('./Datasets/Titan.csv',index_col=0),\n",
    "    'UltraTech':pd.read_csv('./Datasets/UltraTech.csv',index_col=0),\n",
    "    'Wipro':pd.read_csv('./Datasets/Wipro.csv',index_col=0)\n",
    "\n",
    "}\n",
    "\n"
   ]
  },
  {
   "cell_type": "code",
   "execution_count": 4,
   "metadata": {},
   "outputs": [
    {
     "name": "stdout",
     "output_type": "stream",
     "text": [
      "49\n"
     ]
    }
   ],
   "source": [
    "print(len(stock_data))"
   ]
  },
  {
   "cell_type": "markdown",
   "metadata": {},
   "source": [
    "Best AIC Function"
   ]
  },
  {
   "cell_type": "code",
   "execution_count": 16,
   "metadata": {},
   "outputs": [],
   "source": [
    "def select_best_order(returns):\n",
    "    best_aic = np.inf  # Initialize with a very large value\n",
    "    best_order = None\n",
    "\n",
    "    # Loop over potential values of p and q\n",
    "    for p in range(1, 6):  # Maximum lag order for ARCH model\n",
    "        for q in range(1, 6):  # Maximum lag order for GARCH model\n",
    "            # Fit ARCH/GARCH model with current p and q values\n",
    "            model = arch_model(returns, vol='Garch', p=p, q=q,rescale=False)\n",
    "            result = model.fit(disp='off')  # Suppress output for simplicity\n",
    "            \n",
    "            # Calculate AIC\n",
    "            aic = result.aic\n",
    "            \n",
    "            # Check if current AIC is the best so far\n",
    "            if aic < best_aic:\n",
    "                best_aic = aic\n",
    "                best_order = (p, q)\n",
    "                p_value=p\n",
    "                q_value=q\n",
    "\n",
    "    return best_aic, best_order,p_value,q_value"
   ]
  },
  {
   "cell_type": "markdown",
   "metadata": {},
   "source": [
    "GARCH Model Function"
   ]
  },
  {
   "cell_type": "code",
   "execution_count": 17,
   "metadata": {},
   "outputs": [],
   "source": [
    "def fit_garch_model_and_forecast_volatility(rescaled_returns, p_value, q_value):\n",
    "    # Fit GARCH model\n",
    "    model = arch_model(rescaled_returns, vol='Garch', p=p_value, q=q_value, rescale=False)\n",
    "    fitted_model = model.fit(disp='off')  # Suppress output for simplicity\n",
    "\n",
    "    # Forecast volatility for the next 1 day\n",
    "    forecast = fitted_model.forecast(horizon=1)\n",
    "    forecast_volatility = np.sqrt(forecast.variance.iloc[-1].values[0])\n",
    "    \n",
    "    return forecast_volatility"
   ]
  },
  {
   "cell_type": "markdown",
   "metadata": {},
   "source": [
    "AIC Results"
   ]
  },
  {
   "cell_type": "code",
   "execution_count": 18,
   "metadata": {},
   "outputs": [
    {
     "name": "stdout",
     "output_type": "stream",
     "text": [
      "Best AIC for: Asian_Paints -4511.020024776775\n",
      "Best Order (p, q): (1, 4)\n",
      "Best AIC for: Axis_Bank -4362.335567783504\n",
      "Best Order (p, q): (1, 1)\n",
      "Best AIC for: Bajaj_Finance -4106.517751199837\n",
      "Best Order (p, q): (4, 3)\n",
      "Best AIC for: Bharti_Airtel -4535.257731590818\n",
      "Best Order (p, q): (1, 2)\n",
      "Best AIC for: Britannia_Industries -4760.64015790204\n",
      "Best Order (p, q): (3, 1)\n",
      "Best AIC for: Cipla -4464.443816978358\n",
      "Best Order (p, q): (1, 1)\n",
      "Best AIC for: Coal_India -4035.323304527393\n",
      "Best Order (p, q): (1, 2)\n",
      "Best AIC for: Dr_Reddy -4530.044077954524\n",
      "Best Order (p, q): (1, 3)\n",
      "Best AIC for: Eicher_Motors -4228.491325634379\n",
      "Best Order (p, q): (1, 1)\n",
      "Best AIC for: HCL_Tech -4426.968163052792\n",
      "Best Order (p, q): (1, 1)\n",
      "Best AIC for: HDFC_Bank -4570.805029386023\n",
      "Best Order (p, q): (1, 2)\n",
      "Best AIC for: Hero_Motocorp -4391.507894329997\n",
      "Best Order (p, q): (2, 5)\n",
      "Best AIC for: Hinudstan_Unilever -4724.632352017566\n",
      "Best Order (p, q): (1, 2)\n",
      "Best AIC for: ICICI_Bank -4545.867112398357\n",
      "Best Order (p, q): (1, 4)\n",
      "Best AIC for: Infosys -4431.293657073018\n",
      "Best Order (p, q): (1, 3)\n",
      "Best AIC for: ITC -4625.118868982354\n",
      "Best Order (p, q): (3, 2)\n",
      "Best AIC for: JSW_Steel -4078.1743092045663\n",
      "Best Order (p, q): (1, 3)\n",
      "Best AIC for: Kotak_Mahindra -4548.094135178204\n",
      "Best Order (p, q): (1, 2)\n",
      "Best AIC for: L&T -5644.378712580734\n",
      "Best Order (p, q): (2, 4)\n",
      "Best AIC for: Maruti_Suzuki -4488.777099591656\n",
      "Best Order (p, q): (1, 2)\n",
      "Best AIC for: Nestle_India -4873.204773519272\n",
      "Best Order (p, q): (2, 4)\n",
      "Best AIC for: NTPC -4335.682197017768\n",
      "Best Order (p, q): (1, 2)\n",
      "Best AIC for: ONGC -4026.248758448403\n",
      "Best Order (p, q): (2, 4)\n",
      "Best AIC for: PowerGrid -4286.680304781521\n",
      "Best Order (p, q): (1, 1)\n",
      "Best AIC for: Reliance_Industries -4488.388704794555\n",
      "Best Order (p, q): (2, 1)\n",
      "Best AIC for: SBI -4300.678587295433\n",
      "Best Order (p, q): (1, 2)\n",
      "Best AIC for: Shriram_finance -3788.538694299855\n",
      "Best Order (p, q): (3, 5)\n",
      "Best AIC for: Tata_Motors -3856.7125296389913\n",
      "Best Order (p, q): (2, 2)\n",
      "Best AIC for: TCS -4641.197358218182\n",
      "Best Order (p, q): (1, 1)\n",
      "Best AIC for: UltraTech -4485.6857516523005\n",
      "Best Order (p, q): (1, 1)\n"
     ]
    }
   ],
   "source": [
    "volatility_results = {}\n",
    "\n",
    "# Loop over each company's stock price data\n",
    "actual_volatilities={}\n",
    "thresholded_stocks = []\n",
    "threshold = 0.05  # Define threshold for volatility\n",
    "\n",
    "for company, data in stock_data.items():\n",
    "    # Calculate returns\n",
    "    returns = data['Close'].pct_change().dropna()  \n",
    "    rescaled_returns=returns\n",
    "    squared_diff = rescaled_returns ** 2\n",
    "    actual_volatilities[company] = squared_diff.mean()\n",
    "    best_aic, best_order,p_value,q_value = select_best_order(rescaled_returns)\n",
    "    print(\"Best AIC for:\",company, best_aic)\n",
    "    print(\"Best Order (p, q):\", best_order)\n",
    "\n",
    "    volatility_results[company] = fit_garch_model_and_forecast_volatility(rescaled_returns, p_value, q_value)\n",
    "    forecasted_volatilities = np.array(list(volatility_results.values())).reshape(-1, 1)\n",
    "\n",
    "    # Store the result in the dictionary"
   ]
  },
  {
   "cell_type": "markdown",
   "metadata": {},
   "source": [
    "Forecasted Volatilities V/S Actual"
   ]
  },
  {
   "cell_type": "code",
   "execution_count": 19,
   "metadata": {},
   "outputs": [
    {
     "name": "stdout",
     "output_type": "stream",
     "text": [
      "{'Asian_Paints': 0.011858384684897269, 'Axis_Bank': 0.01371214230055575, 'Bajaj_Finance': 0.01600356701080269, 'Bharti_Airtel': 0.01378941359273387, 'Britannia_Industries': 0.013461155111540918, 'Cipla': 0.014945984682567278, 'Coal_India': 0.022082548486808542, 'Dr_Reddy': 0.01360797346433005, 'Eicher_Motors': 0.017103237060592143, 'HCL_Tech': 0.014763698650303289, 'HDFC_Bank': 0.01142352538159613, 'Hero_Motocorp': 0.020962804718583607, 'Hinudstan_Unilever': 0.012044774412859791, 'ICICI_Bank': 0.012113151805205986, 'Infosys': 0.01409163508817392, 'ITC': 0.014652394104110077, 'JSW_Steel': 0.015857048843606326, 'Kotak_Mahindra': 0.011865452139342349, 'L&T': 0.01596820007820523, 'Maruti_Suzuki': 0.01510889473779621, 'Nestle_India': 0.013213266723599583, 'NTPC': 0.01845457585476098, 'ONGC': 0.01945199684947124, 'PowerGrid': 0.02038956818252686, 'Reliance_Industries': 0.014625263171074179, 'SBI': 0.01611924807108784, 'Shriram_finance': 0.02051756404488638, 'Tata_Motors': 0.017996311735768315, 'TCS': 0.013643096208354306, 'UltraTech': 0.012388381669224848}\n",
      "{'Asian_Paints': 0.00022140355078843952, 'Axis_Bank': 0.0002733728200634011, 'Bajaj_Finance': 0.0003552687431494324, 'Bharti_Airtel': 0.00021477947350725946, 'Britannia_Industries': 0.00015422431863359453, 'Cipla': 0.00021934891180458305, 'Coal_India': 0.0004077203790160743, 'Dr_Reddy': 0.00020380327312233113, 'Eicher_Motors': 0.0002949943883205408, 'HCL_Tech': 0.0002349517645763547, 'HDFC_Bank': 0.0002057649210463789, 'Hero_Motocorp': 0.00025792870258629604, 'Hinudstan_Unilever': 0.0001654699853306537, 'ICICI_Bank': 0.00022504677455364162, 'Infosys': 0.00023532587676676858, 'ITC': 0.00019040769819143554, 'JSW_Steel': 0.0004012670186824982, 'Kotak_Mahindra': 0.00021178926873103416, 'L&T': 0.00032717856903010403, 'Maruti_Suzuki': 0.00023393226273754722, 'Nestle_India': 0.0001344622735153485, 'NTPC': 0.00026688761237382867, 'ONGC': 0.0004366146509931412, 'PowerGrid': 0.0002869847297008865, 'Reliance_Industries': 0.0002245027984414416, 'SBI': 0.00030056791934170884, 'Shriram_finance': 0.000553592818572107, 'Tata_Motors': 0.0005750244882128657, 'TCS': 0.00017740844040581917, 'UltraTech': 0.00022951891366808564}\n"
     ]
    }
   ],
   "source": [
    "print(volatility_results)\n",
    "print(actual_volatilities)"
   ]
  },
  {
   "cell_type": "code",
   "execution_count": 20,
   "metadata": {},
   "outputs": [
    {
     "name": "stdout",
     "output_type": "stream",
     "text": [
      "Forecasted Volatility Results:\n",
      "Asian_Paints: 0.011858384684897269\n",
      "Axis_Bank: 0.01371214230055575\n",
      "Bajaj_Finance: 0.01600356701080269\n",
      "Bharti_Airtel: 0.01378941359273387\n",
      "Britannia_Industries: 0.013461155111540918\n",
      "Cipla: 0.014945984682567278\n",
      "Coal_India: 0.022082548486808542\n",
      "Dr_Reddy: 0.01360797346433005\n",
      "Eicher_Motors: 0.017103237060592143\n",
      "HCL_Tech: 0.014763698650303289\n",
      "HDFC_Bank: 0.01142352538159613\n",
      "Hero_Motocorp: 0.020962804718583607\n",
      "Hinudstan_Unilever: 0.012044774412859791\n",
      "ICICI_Bank: 0.012113151805205986\n",
      "Infosys: 0.01409163508817392\n",
      "ITC: 0.014652394104110077\n",
      "JSW_Steel: 0.015857048843606326\n",
      "Kotak_Mahindra: 0.011865452139342349\n",
      "L&T: 0.01596820007820523\n",
      "Maruti_Suzuki: 0.01510889473779621\n",
      "Nestle_India: 0.013213266723599583\n",
      "NTPC: 0.01845457585476098\n",
      "ONGC: 0.01945199684947124\n",
      "PowerGrid: 0.02038956818252686\n",
      "Reliance_Industries: 0.014625263171074179\n",
      "SBI: 0.01611924807108784\n",
      "Shriram_finance: 0.02051756404488638\n",
      "Tata_Motors: 0.017996311735768315\n",
      "TCS: 0.013643096208354306\n",
      "UltraTech: 0.012388381669224848\n",
      "\n",
      "\n",
      "Actual Volatility Results:\n",
      "Asian_Paints: 0.00022140355078843952\n",
      "Axis_Bank: 0.0002733728200634011\n",
      "Bajaj_Finance: 0.0003552687431494324\n",
      "Bharti_Airtel: 0.00021477947350725946\n",
      "Britannia_Industries: 0.00015422431863359453\n",
      "Cipla: 0.00021934891180458305\n",
      "Coal_India: 0.0004077203790160743\n",
      "Dr_Reddy: 0.00020380327312233113\n",
      "Eicher_Motors: 0.0002949943883205408\n",
      "HCL_Tech: 0.0002349517645763547\n",
      "HDFC_Bank: 0.0002057649210463789\n",
      "Hero_Motocorp: 0.00025792870258629604\n",
      "Hinudstan_Unilever: 0.0001654699853306537\n",
      "ICICI_Bank: 0.00022504677455364162\n",
      "Infosys: 0.00023532587676676858\n",
      "ITC: 0.00019040769819143554\n",
      "JSW_Steel: 0.0004012670186824982\n",
      "Kotak_Mahindra: 0.00021178926873103416\n",
      "L&T: 0.00032717856903010403\n",
      "Maruti_Suzuki: 0.00023393226273754722\n",
      "Nestle_India: 0.0001344622735153485\n",
      "NTPC: 0.00026688761237382867\n",
      "ONGC: 0.0004366146509931412\n",
      "PowerGrid: 0.0002869847297008865\n",
      "Reliance_Industries: 0.0002245027984414416\n",
      "SBI: 0.00030056791934170884\n",
      "Shriram_finance: 0.000553592818572107\n",
      "Tata_Motors: 0.0005750244882128657\n",
      "TCS: 0.00017740844040581917\n",
      "UltraTech: 0.00022951891366808564\n"
     ]
    }
   ],
   "source": [
    "volatilities={}\n",
    "for company, volatility in volatility_results.items():\n",
    "        if volatility <= threshold:\n",
    "            thresholded_stocks.append(company)\n",
    "print(\"Forecasted Volatility Results:\")\n",
    "for company, volatility in volatility_results.items():\n",
    "    volatilities[company]=volatility\n",
    "    print(f\"{company}: {volatility}\")\n",
    "print('\\n')\n",
    "print(\"Actual Volatility Results:\")\n",
    "for company, volatility in actual_volatilities.items():\n",
    "    actual_volatilities[company]=volatility\n",
    "    print(f\"{company}: {volatility}\")"
   ]
  },
  {
   "cell_type": "code",
   "execution_count": 21,
   "metadata": {},
   "outputs": [],
   "source": [
    "from importnb import Notebook\n",
    "with Notebook():\n",
    "    from Models.kmeans import find_optimal_k_and_cluster\n"
   ]
  },
  {
   "cell_type": "markdown",
   "metadata": {},
   "source": [
    "Optimak k & silhouette score calculation"
   ]
  },
  {
   "cell_type": "code",
   "execution_count": 22,
   "metadata": {},
   "outputs": [
    {
     "name": "stdout",
     "output_type": "stream",
     "text": [
      "Optimal number of clusters (k): 5\n",
      "[0.5686618106848003, 0.6030324728570066, 0.6197746715321967]\n"
     ]
    },
    {
     "name": "stderr",
     "output_type": "stream",
     "text": [
      "C:\\Users\\Hp\\AppData\\Roaming\\Python\\Python310\\site-packages\\sklearn\\cluster\\_kmeans.py:1416: FutureWarning: The default value of `n_init` will change from 10 to 'auto' in 1.4. Set the value of `n_init` explicitly to suppress the warning\n",
      "  super()._check_params_vs_input(X, default_n_init=10)\n",
      "C:\\Users\\Hp\\AppData\\Roaming\\Python\\Python310\\site-packages\\sklearn\\cluster\\_kmeans.py:1416: FutureWarning: The default value of `n_init` will change from 10 to 'auto' in 1.4. Set the value of `n_init` explicitly to suppress the warning\n",
      "  super()._check_params_vs_input(X, default_n_init=10)\n",
      "C:\\Users\\Hp\\AppData\\Roaming\\Python\\Python310\\site-packages\\sklearn\\cluster\\_kmeans.py:1416: FutureWarning: The default value of `n_init` will change from 10 to 'auto' in 1.4. Set the value of `n_init` explicitly to suppress the warning\n",
      "  super()._check_params_vs_input(X, default_n_init=10)\n"
     ]
    }
   ],
   "source": [
    "optimal_k, silhouette_scores = find_optimal_k_and_cluster(forecasted_volatilities)\n",
    "\n",
    "print(\"Optimal number of clusters (k):\", optimal_k)\n",
    "print(silhouette_scores)"
   ]
  },
  {
   "cell_type": "markdown",
   "metadata": {},
   "source": [
    "Silhouette Score plot"
   ]
  },
  {
   "cell_type": "code",
   "execution_count": 23,
   "metadata": {},
   "outputs": [
    {
     "data": {
      "image/png": "[encoded data removed]",
      "text/plain": [
       "<Figure size 1000x600 with 1 Axes>"
      ]
     },
     "metadata": {},
     "output_type": "display_data"
    }
   ],
   "source": [
    "import matplotlib.pyplot as plt\n",
    "min_k=3\n",
    "max_k=5\n",
    "# Plot silhouette scores\n",
    "plt.figure(figsize=(10, 6))\n",
    "plt.plot(range(min_k, max_k + 1), silhouette_scores, marker='o', linestyle='-')\n",
    "plt.xlabel('Number of Clusters (k)')\n",
    "plt.ylabel('Silhouette Score')\n",
    "plt.title('Silhouette Score vs Number of Clusters')\n",
    "plt.grid(True)\n",
    "plt.show()\n"
   ]
  },
  {
   "cell_type": "markdown",
   "metadata": {},
   "source": [
    "SVM Algorithm"
   ]
  },
  {
   "cell_type": "code",
   "execution_count": 24,
   "metadata": {},
   "outputs": [],
   "source": [
    "import numpy as np\n",
    "import pandas as pd\n",
    "from sklearn.model_selection import train_test_split\n",
    "from sklearn.preprocessing import StandardScaler\n",
    "from sklearn import svm\n",
    "from sklearn.metrics import classification_report, accuracy_score\n",
    "\n",
    "def classify_volatilities(forecasted_volatility_results, actual_volatility_results, threshold=None):\n",
    "    \n",
    "    # Prepare the data\n",
    "    companies = list(forecasted_volatility_results.keys())\n",
    "    forecasted_volatilities = list(forecasted_volatility_results.values())\n",
    "    actual_volatilities_values = list(actual_volatility_results.values())\n",
    "\n",
    "    # Calculate the mean of forecasted volatilities if threshold is not provided\n",
    "    if threshold is None:\n",
    "        threshold = np.mean(forecasted_volatilities)\n",
    "    print(f'Using threshold: {threshold}')\n",
    "\n",
    "    # Define the target variable based on the threshold\n",
    "    targets = [1 if vol > threshold else 0 for vol in forecasted_volatilities]\n",
    "\n",
    "    # Create a DataFrame\n",
    "    data = {\n",
    "        'Company': companies,\n",
    "        'Forecasted_Volatility': forecasted_volatilities,\n",
    "        'Actual_Volatility': actual_volatilities_values,\n",
    "        'Target': targets\n",
    "    }\n",
    "    df = pd.DataFrame(data)\n",
    "\n",
    "    # Features and target\n",
    "    X = df[['Forecasted_Volatility']]\n",
    "    y = df['Target']\n",
    "\n",
    "    # Train-test split\n",
    "    X_train, X_test, y_train, y_test = train_test_split(X, y, test_size=0.2, random_state=42)\n",
    "\n",
    "    # Feature scaling\n",
    "    scaler = StandardScaler()\n",
    "    X_train_scaled = scaler.fit_transform(X_train)\n",
    "    X_test_scaled = scaler.transform(X_test)\n",
    "\n",
    "    # Train SVM model\n",
    "    model = svm.SVC(kernel='linear', C=1.0, random_state=42)\n",
    "    model.fit(X_train_scaled, y_train)\n",
    "\n",
    "    # Evaluate model\n",
    "    y_pred = model.predict(X_test_scaled)\n",
    "    print(f'Accuracy: {accuracy_score(y_test, y_pred)}')\n",
    "    print(classification_report(y_test, y_pred))\n",
    "\n",
    "    # Classify all companies\n",
    "    X_scaled = scaler.transform(X)\n",
    "    df['Class'] = model.predict(X_scaled)\n",
    "\n",
    "    # Display the classified companies\n",
    "    print(df)\n",
    "\n",
    "    # Create lists of high and low volatility stocks\n",
    "    high_volatility_stocks = df[df['Class'] == 1]['Company'].tolist()\n",
    "    low_volatility_stocks = df[df['Class'] == 0]['Company'].tolist()\n",
    "\n",
    "    print(\"High Volatility Stocks:\", high_volatility_stocks)\n",
    "    print(\"Low Volatility Stocks:\", low_volatility_stocks)\n",
    "\n",
    "    return df, high_volatility_stocks, low_volatility_stocks\n",
    "\n"
   ]
  },
  {
   "cell_type": "code",
   "execution_count": 14,
   "metadata": {},
   "outputs": [
    {
     "name": "stdout",
     "output_type": "stream",
     "text": [
      "Using threshold: 0.015344921296901426\n",
      "Accuracy: 0.75\n",
      "              precision    recall  f1-score   support\n",
      "\n",
      "           0       0.67      1.00      0.80         2\n",
      "           1       1.00      0.50      0.67         2\n",
      "\n",
      "    accuracy                           0.75         4\n",
      "   macro avg       0.83      0.75      0.73         4\n",
      "weighted avg       0.83      0.75      0.73         4\n",
      "\n",
      "                Company  Forecasted_Volatility  Actual_Volatility  Target  \\\n",
      "0             Axis_Bank               0.013712           0.000273       0   \n",
      "1         Bajaj_Finance               0.016004           0.000355       1   \n",
      "2            Coal_India               0.022083           0.000408       1   \n",
      "3              HCL_Tech               0.014764           0.000235       0   \n",
      "4             HDFC_Bank               0.011424           0.000206       0   \n",
      "5    Hinudstan_Unilever               0.012045           0.000165       0   \n",
      "6            ICICI_Bank               0.012113           0.000225       0   \n",
      "7               Infosys               0.014092           0.000235       0   \n",
      "8                   ITC               0.014652           0.000190       0   \n",
      "9        Kotak_Mahindra               0.011865           0.000212       0   \n",
      "10                  L&T               0.015968           0.000327       1   \n",
      "11        Maruti_Suzuki               0.015109           0.000234       0   \n",
      "12                 NTPC               0.018455           0.000267       1   \n",
      "13                 ONGC               0.019452           0.000437       1   \n",
      "14            PowerGrid               0.020390           0.000287       1   \n",
      "15  Reliance_Industries               0.014625           0.000225       0   \n",
      "16                  SBI               0.016119           0.000301       1   \n",
      "17          Tata_Motors               0.017996           0.000575       1   \n",
      "18                  TCS               0.013643           0.000177       0   \n",
      "19            UltraTech               0.012388           0.000230       0   \n",
      "\n",
      "    Class  \n",
      "0       0  \n",
      "1       0  \n",
      "2       1  \n",
      "3       0  \n",
      "4       0  \n",
      "5       0  \n",
      "6       0  \n",
      "7       0  \n",
      "8       0  \n",
      "9       0  \n",
      "10      0  \n",
      "11      0  \n",
      "12      1  \n",
      "13      1  \n",
      "14      1  \n",
      "15      0  \n",
      "16      0  \n",
      "17      1  \n",
      "18      0  \n",
      "19      0  \n",
      "High Volatility Stocks: ['Coal_India', 'NTPC', 'ONGC', 'PowerGrid', 'Tata_Motors']\n",
      "Low Volatility Stocks: ['Axis_Bank', 'Bajaj_Finance', 'HCL_Tech', 'HDFC_Bank', 'Hinudstan_Unilever', 'ICICI_Bank', 'Infosys', 'ITC', 'Kotak_Mahindra', 'L&T', 'Maruti_Suzuki', 'Reliance_Industries', 'SBI', 'TCS', 'UltraTech']\n"
     ]
    }
   ],
   "source": [
    "df, high_volatility_stocks, low_volatility_stocks = classify_volatilities(volatility_results, actual_volatilities)"
   ]
  }
 ],
 "metadata": {
  "kernelspec": {
   "display_name": "Python 3",
   "language": "python",
   "name": "python3"
  },
  "language_info": {
   "codemirror_mode": {
    "name": "ipython",
    "version": 3
   },
   "file_extension": ".py",
   "mimetype": "text/x-python",
   "name": "python",
   "nbconvert_exporter": "python",
   "pygments_lexer": "ipython3",
   "version": "3.10.6"
  }
 },
 "nbformat": 4,
 "nbformat_minor": 2
}
