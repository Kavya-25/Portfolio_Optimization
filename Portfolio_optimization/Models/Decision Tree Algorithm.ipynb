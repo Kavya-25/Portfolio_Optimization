{
 "cells": [
  {
   "cell_type": "code",
   "execution_count": 4,
   "id": "81d29ecc",
   "metadata": {},
   "outputs": [],
   "source": [
    "import pandas as pd\n",
    "import numpy as np\n",
    "from arch import arch_model\n",
    "import matplotlib.pyplot as plt\n",
    "\n",
    "# Load data from the dictionary\n",
    "company_data = {\n",
    "    'Axis_Bank':pd.read_csv('D:/ResearchPaperRepository/Portfolio_optimization/Datasets/Axis_Bank.csv',index_col=0),    \n",
    "    'Bajaj_Finance':pd.read_csv('D:/ResearchPaperRepository/Portfolio_optimization/Datasets/Bajaj_Finance.csv',index_col=0),    \n",
    "    'Coal_India':pd.read_csv('D:/ResearchPaperRepository/Portfolio_optimization/Datasets/Coal_India.csv',index_col=0),    \n",
    "    'HCL_Tech':pd.read_csv('D:/ResearchPaperRepository/Portfolio_optimization/Datasets/HCL_Tech.csv',index_col=0),    \n",
    "    'HDFC_Bank':pd.read_csv('D:/ResearchPaperRepository/Portfolio_optimization/Datasets/HDFC_Bank.csv',index_col=0),    \n",
    "    'Hindustan_Unilever':pd.read_csv('D:/ResearchPaperRepository/Portfolio_optimization/Datasets/Hindustan_Unilever.csv',index_col=0),\n",
    "    'ICICI_Bank':pd.read_csv('D:/ResearchPaperRepository/Portfolio_optimization/Datasets/ICICI_Bank.csv',index_col=0),\n",
    "    'Infosys':pd.read_csv('D:/ResearchPaperRepository/Portfolio_optimization/Datasets/Infosys.csv',index_col=0),\n",
    "    'ITC':pd.read_csv('D:/ResearchPaperRepository/Portfolio_optimization/Datasets/ITC.csv',index_col=0),\n",
    "    'Kotak_Mahindra':pd.read_csv('D:/ResearchPaperRepository/Portfolio_optimization/Datasets/Kotak_Mahindra.csv',index_col=0),    \n",
    "    'L&T':pd.read_csv('D:/ResearchPaperRepository/Portfolio_optimization/Datasets/L&T.csv',index_col=0),    \n",
    "    'Maruti_Suzuki':pd.read_csv('D:/ResearchPaperRepository/Portfolio_optimization/Datasets/Maruti_Suzuki.csv',index_col=0),    \n",
    "    'NTPC':pd.read_csv('D:/ResearchPaperRepository/Portfolio_optimization/Datasets/NTPC.csv',index_col=0),    \n",
    "    'ONGC':pd.read_csv('D:/ResearchPaperRepository/Portfolio_optimization/Datasets/ONGC.csv',index_col=0),\n",
    "    'PowerGrid_Corp':pd.read_csv('D:/ResearchPaperRepository/Portfolio_optimization/Datasets/PowerGrid_Corp.csv',index_col=0),\n",
    "    'Reliance_Industries':pd.read_csv('D:/ResearchPaperRepository/Portfolio_optimization/Datasets/Reliance_Industries.csv',index_col=0),\n",
    "    'SBI':pd.read_csv('D:/ResearchPaperRepository/Portfolio_optimization/Datasets/SBI.csv',index_col=0),\n",
    "    'Tata_Motors':pd.read_csv('D:/ResearchPaperRepository/Portfolio_optimization/Datasets/Tata_Motors.csv',index_col=0),\n",
    "    'TCS':pd.read_csv('D:/ResearchPaperRepository/Portfolio_optimization/Datasets/TCS.csv',index_col=0),\n",
    "    'UltraTech':pd.read_csv('D:/ResearchPaperRepository/Portfolio_optimization/Datasets/UltraTech.csv',index_col=0)\n",
    "\n",
    "}\n"
   ]
  },
  {
   "cell_type": "code",
   "execution_count": null,
   "id": "43348388",
   "metadata": {},
   "outputs": [],
   "source": [
    "def fit_garch_model(stock_data):\n",
    "    volatilities = pd.DataFrame(index=stock_data.index)\n",
    "    for company in stock_data.columns:\n",
    "        returns = stock_data[company].pct_change().dropna()\n",
    "        garch_model = arch_model(returns, vol='Garch', p=1, q=1)\n",
    "        garch_fit = garch_model.fit(disp=\"off\")\n",
    "        volatilities[company] = garch_fit.conditional_volatility\n",
    "    return volatilities\n",
    "\n",
    "volatilities = fit_garch_model(stock_data)\n",
    "print(volatilities.head())\n"
   ]
  }
 ],
 "metadata": {
  "kernelspec": {
   "display_name": "Python 3 (ipykernel)",
   "language": "python",
   "name": "python3"
  },
  "language_info": {
   "codemirror_mode": {
    "name": "ipython",
    "version": 3
   },
   "file_extension": ".py",
   "mimetype": "text/x-python",
   "name": "python",
   "nbconvert_exporter": "python",
   "pygments_lexer": "ipython3",
   "version": "3.9.7"
  }
 },
 "nbformat": 4,
 "nbformat_minor": 5
}
